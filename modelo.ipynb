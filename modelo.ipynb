{
 "cells": [
  {
   "cell_type": "code",
   "execution_count": 103,
   "id": "1086b975",
   "metadata": {},
   "outputs": [],
   "source": [
    "# Importando bibliotecas válidas para a análise\n",
    "import pandas as pd\n",
    "import matplotlib.pyplot as plt\n",
    "import seaborn as sns\n",
    "from sklearn.model_selection import train_test_split\n",
    "from sklearn.preprocessing import StandardScaler\n",
    "from sklearn.linear_model import LogisticRegression\n",
    "from sklearn.metrics import accuracy_score, confusion_matrix, classification_report,roc_curve, auc, precision_recall_curve\n",
    "from sklearn.model_selection import learning_curve"
   ]
  },
  {
   "cell_type": "code",
   "execution_count": 104,
   "id": "6310e9d9",
   "metadata": {},
   "outputs": [],
   "source": [
    "df = pd.read_csv('csv/game.csv')\n",
    "df = df[df['season_type'].isin(['Regular Season', 'Playoffs'])]\n",
    "df = df[df['game_date'] >= '2014-01-01']"
   ]
  },
  {
   "cell_type": "code",
   "execution_count": 105,
   "id": "472627d5",
   "metadata": {},
   "outputs": [],
   "source": [
    "#adicona ao df uma variavel binaria que diz se o time daa casa ganhou ou não\n",
    "df['home_win'] = df['wl_home'].apply(lambda x: 1 if x == 'W' else 0)"
   ]
  },
  {
   "cell_type": "code",
   "execution_count": 106,
   "id": "a6bc6ad9",
   "metadata": {},
   "outputs": [],
   "source": [
    "df.sort_values(by='game_date', inplace=True)"
   ]
  },
  {
   "cell_type": "code",
   "execution_count": 107,
   "id": "122017dc",
   "metadata": {},
   "outputs": [
    {
     "name": "stdout",
     "output_type": "stream",
     "text": [
      "Novas colunas com métricas avançadas criadas:\n",
      "       efg_pct_home  tov_rate_home  oreb_pct_home  ft_rate_home\n",
      "52624      0.403409       0.170557       0.319149      0.079545\n",
      "52625      0.480769       0.161720       0.236842      0.256410\n",
      "52626      0.607595       0.137112       0.294118      0.354430\n",
      "52627      0.423077       0.116279       0.277778      0.274725\n",
      "52628      0.617647       0.143678       0.205128      0.082353\n"
     ]
    }
   ],
   "source": [
    "#Eficiencia dos Arremessos (Effective Field Goal %) ---\n",
    "# Leva em conta que um arremesso de 3 pontos vale mais.\n",
    "# Fórmula: (FGM + 0.5 * FG3M) / FGA\n",
    "#0.5 é pq 3 pontos valem 1.5 vezes mais que 2 pontos.\n",
    "df['efg_pct_home'] = (df['fgm_home'] + 0.5 * df['fg3m_home']) / df['fga_home']\n",
    "df['efg_pct_away'] = (df['fgm_away'] + 0.5 * df['fg3m_away']) / df['fga_away']\n",
    "\n",
    "#Cuidar da Bola (Turnover Rate) ---\n",
    "# Usamos uma aproximação comum para o número de posses de bola.\n",
    "# Fórmula: TOV / (FGA + 0.44 * FTA + TOV)\n",
    "#ter um numero de turnovers maior que o do adversario é pior pois significa que o time está perdendo a posse de bola com mais frequência.\n",
    "possessions_home = df['fga_home'] + 0.44 * df['fta_home'] + df['tov_home']\n",
    "possessions_away = df['fga_away'] + 0.44 * df['fta_away'] + df['tov_away']\n",
    "df['tov_rate_home'] = df['tov_home'] / possessions_home\n",
    "df['tov_rate_away'] = df['tov_away'] / possessions_away\n",
    "\n",
    "#Rebotes Ofensivos (Offensive Rebound %) ---\n",
    "# Qual a porcentagem de seus próprios arremessos errados um time recupera?\n",
    "# Fórmula: OREB / (OREB + DREB do Oponente)\n",
    "df['oreb_pct_home'] = df['oreb_home'] / (df['oreb_home'] + df['dreb_away'])\n",
    "df['oreb_pct_away'] = df['oreb_away'] / (df['oreb_away'] + df['dreb_home'])\n",
    "\n",
    "#Chegar na Linha de Lance Livre (Free Throw Rate) ---\n",
    "# Com que frequência um time vai para a linha de lance livre em relação aos seus arremessos.\n",
    "# Fórmula: FTM / FGA\n",
    "df['ft_rate_home'] = df['ftm_home'] / df['fga_home']\n",
    "df['ft_rate_away'] = df['ftm_away'] / df['fga_away']\n",
    "\n",
    "# Vamos tratar possíveis divisões por zero, caso existam, preenchendo com 0\n",
    "df.fillna(0, inplace=True)\n",
    "\n",
    "print(\"Novas colunas com métricas avançadas criadas:\")\n",
    "print(df[['efg_pct_home', 'tov_rate_home', 'oreb_pct_home', 'ft_rate_home']].head())"
   ]
  },
  {
   "cell_type": "code",
   "execution_count": 108,
   "id": "c2db3f8f",
   "metadata": {},
   "outputs": [],
   "source": [
    "# Lista das novas métricas que criamos\n",
    "advanced_stats_cols = ['efg_pct', 'tov_rate', 'oreb_pct', 'ft_rate']\n",
    "\n",
    "# Unificar os dados para facilitar o cálculo (mesma lógica de antes)\n",
    "home_stats = df[['game_date', 'team_id_home', 'season_id'] + [f'{col}_home' for col in advanced_stats_cols]]\n",
    "home_stats.columns = ['game_date', 'team_id', 'season_id'] + advanced_stats_cols\n",
    "\n",
    "away_stats = df[['game_date', 'team_id_away', 'season_id'] + [f'{col}_away' for col in advanced_stats_cols]]\n",
    "away_stats.columns = ['game_date', 'team_id', 'season_id'] + advanced_stats_cols\n",
    "\n",
    "team_stats_df = pd.concat([home_stats, away_stats])\n",
    "team_stats_df.sort_values(['team_id', 'game_date'], inplace=True)\n",
    "\n",
    "# Calcular a média cumulativa (expanding mean) para as novas métricas\n",
    "#a média cumulativa é a média até aquele momento especifico da temporada.\n",
    "cumulative_stats = team_stats_df.groupby(['team_id', 'season_id'])[advanced_stats_cols].apply(\n",
    "    lambda x: x.expanding().mean().shift(1)\n",
    ")\n",
    "cumulative_stats.columns = [f'{col}_avg' for col in advanced_stats_cols]\n",
    "\n",
    "# Juntando as médias de volta ao dataframe original\n",
    "# (Esta parte do código é idêntica à anterior, apenas aplicada às novas colunas)\n",
    "team_stats_df_reset = team_stats_df.reset_index()\n",
    "cumulative_stats_reset = cumulative_stats.reset_index()\n",
    "full_stats = pd.merge(team_stats_df_reset, cumulative_stats_reset, left_index=True, right_index=True, suffixes=('', '_y'))\n",
    "\n",
    "df = pd.merge(df, full_stats[['game_date', 'team_id'] + list(cumulative_stats.columns)], left_on=['game_date', 'team_id_home'], right_on=['game_date', 'team_id'], how='left')\n",
    "df.rename(columns={f'{col}_avg': f'{col}_home_avg' for col in advanced_stats_cols}, inplace=True)\n",
    "df.drop('team_id', axis=1, inplace=True)\n",
    "\n",
    "df = pd.merge(df, full_stats[['game_date', 'team_id'] + list(cumulative_stats.columns)], left_on=['game_date', 'team_id_away'], right_on=['game_date', 'team_id'], how='left')\n",
    "df.rename(columns={f'{col}_avg': f'{col}_away_avg' for col in advanced_stats_cols}, inplace=True)\n",
    "df.drop('team_id', axis=1, inplace=True)\n",
    "\n",
    "# Lidar com os primeiros jogos da temporada que não terão médias\n",
    "df.dropna(inplace=True)"
   ]
  },
  {
   "cell_type": "code",
   "execution_count": 109,
   "id": "426ba494",
   "metadata": {},
   "outputs": [
    {
     "name": "stdout",
     "output_type": "stream",
     "text": [
      "Features finais criadas e prontas para o modelo:\n",
      "    diff_efg_pct_avg  diff_tov_rate_avg  diff_oreb_pct_avg  diff_ft_rate_avg\n",
      "15         -0.144317           0.023027          -0.015476          0.013623\n",
      "16         -0.194570           0.001783           0.073942          0.186878\n",
      "17         -0.071488          -0.016277          -0.135266          0.187769\n",
      "18         -0.077360           0.008837           0.082307         -0.176865\n",
      "21         -0.062893           0.065151          -0.127157         -0.026668\n"
     ]
    }
   ],
   "source": [
    "# Criar as features diferenciais finais\n",
    "for col in advanced_stats_cols:\n",
    "    df[f'diff_{col}_avg'] = df[f'{col}_home_avg'] - df[f'{col}_away_avg']\n",
    "\n",
    "# Definir a lista final de colunas de features para o modelo\n",
    "final_feature_columns = [f'diff_{col}_avg' for col in advanced_stats_cols]\n",
    "\n",
    "print(\"Features finais criadas e prontas para o modelo:\")\n",
    "print(df[final_feature_columns].head())"
   ]
  },
  {
   "cell_type": "code",
   "execution_count": 110,
   "id": "355dc8a6",
   "metadata": {},
   "outputs": [],
   "source": [
    "features_finais = ['diff_efg_pct_avg', 'diff_tov_rate_avg', 'diff_oreb_pct_avg', 'diff_ft_rate_avg']"
   ]
  },
  {
   "cell_type": "code",
   "execution_count": 111,
   "id": "915f9825",
   "metadata": {},
   "outputs": [],
   "source": [
    "x = df[features_finais]\n",
    "y = df['home_win']\n",
    "# Dividir os dados em treino e teste\n",
    "x_train, x_test, y_train, y_test = train_test_split(x, y, test_size=0.2, random_state=42)"
   ]
  },
  {
   "cell_type": "code",
   "execution_count": 112,
   "id": "0452efb7",
   "metadata": {},
   "outputs": [],
   "source": [
    "#escalonamento de features: coloca todas na mesma escala\n",
    "scaler = StandardScaler()\n",
    "x_train_scaled = scaler.fit_transform(x_train)\n",
    "x_test_scaled = scaler.transform(x_test)"
   ]
  },
  {
   "cell_type": "code",
   "execution_count": 113,
   "id": "e231a79a",
   "metadata": {},
   "outputs": [
    {
     "name": "stdout",
     "output_type": "stream",
     "text": [
      "Modelo treinado\n"
     ]
    }
   ],
   "source": [
    "#treinar o modelo de regressao logistica\n",
    "model = LogisticRegression(random_state=42)\n",
    "model.fit(x_train_scaled, y_train)\n",
    "\n",
    "print(\"Modelo treinado\")"
   ]
  },
  {
   "cell_type": "code",
   "execution_count": 114,
   "id": "7ae69cac",
   "metadata": {},
   "outputs": [],
   "source": [
    "y_pred = model.predict(x_test_scaled)\n"
   ]
  },
  {
   "cell_type": "code",
   "execution_count": 115,
   "id": "93376664",
   "metadata": {},
   "outputs": [
    {
     "name": "stdout",
     "output_type": "stream",
     "text": [
      "Acurácia do modelo: 0.6329 (~ 0.63%)\n"
     ]
    }
   ],
   "source": [
    "#calcula da acurácia do modelo\n",
    "accuracy = accuracy_score(y_test, y_pred)\n",
    "print(f\"Acurácia do modelo: {accuracy:.4f} (~{accuracy: .2f}%)\")"
   ]
  },
  {
   "cell_type": "code",
   "execution_count": 116,
   "id": "e090c8b6",
   "metadata": {},
   "outputs": [
    {
     "name": "stdout",
     "output_type": "stream",
     "text": [
      "\n",
      "Relatório de Classificação:\n",
      "                 precision    recall  f1-score   support\n",
      "\n",
      "Visitante Vence       0.60      0.36      0.45       996\n",
      "     Casa Vence       0.64      0.83      0.72      1390\n",
      "\n",
      "       accuracy                           0.63      2386\n",
      "      macro avg       0.62      0.59      0.59      2386\n",
      "   weighted avg       0.63      0.63      0.61      2386\n",
      "\n",
      "\n",
      "Matriz de Confusão:\n"
     ]
    },
    {
     "data": {
      "image/png": "[encoded data removed]",
      "text/plain": [
       "<Figure size 800x600 with 2 Axes>"
      ]
     },
     "metadata": {},
     "output_type": "display_data"
    }
   ],
   "source": [
    "# Relatório de Classificação Completo\n",
    "print(\"\\nRelatório de Classificação:\")\n",
    "# 'Casa Vence' é a classe 1, 'Visitante Vence' é a classe 0\n",
    "print(classification_report(y_test, y_pred, target_names=['Visitante Vence', 'Casa Vence']))\n",
    "\n",
    "# Matriz de Confusão\n",
    "print(\"\\nMatriz de Confusão:\")\n",
    "cm = confusion_matrix(y_test, y_pred)\n",
    "plt.figure(figsize=(8, 6))\n",
    "sns.heatmap(cm, annot=True, fmt='d', cmap='Blues',\n",
    "            xticklabels=['Previsto Visitante Vence', 'Previsto Casa Vence'],\n",
    "            yticklabels=['Real Visitante Vence', 'Real Casa Vence'])\n",
    "plt.ylabel('Resultado Real')\n",
    "plt.xlabel('Resultado Previsto')\n",
    "plt.title('Matriz de Confusão')\n",
    "plt.show()"
   ]
  },
  {
   "cell_type": "code",
   "execution_count": null,
   "id": "94eda85b",
   "metadata": {},
   "outputs": [],
   "source": []
  },
  {
   "cell_type": "code",
   "execution_count": null,
   "id": "b9a61ec1",
   "metadata": {},
   "outputs": [],
   "source": []
  }
 ],
 "metadata": {
  "kernelspec": {
   "display_name": "Python 3",
   "language": "python",
   "name": "python3"
  },
  "language_info": {
   "codemirror_mode": {
    "name": "ipython",
    "version": 3
   },
   "file_extension": ".py",
   "mimetype": "text/x-python",
   "name": "python",
   "nbconvert_exporter": "python",
   "pygments_lexer": "ipython3",
   "version": "3.13.1"
  }
 },
 "nbformat": 4,
 "nbformat_minor": 5
}
