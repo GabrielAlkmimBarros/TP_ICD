{
 "cells": [
  {
   "cell_type": "code",
   "execution_count": 2,
   "id": "e09880b8",
   "metadata": {},
   "outputs": [],
   "source": [
    "import pandas as pd\n",
    "import numpy as np\n",
    "import matplotlib.pyplot as plt\n",
    "from scipy.stats import norm\n",
    "import seaborn as sns"
   ]
  },
  {
   "cell_type": "code",
   "execution_count": 3,
   "id": "eaab2cf8",
   "metadata": {},
   "outputs": [],
   "source": [
    "df_games = pd.read_csv('csv/game.csv', parse_dates=['game_date'])"
   ]
  },
  {
   "cell_type": "markdown",
   "id": "f5ad1674",
   "metadata": {},
   "source": [
    "### vamos ver quais os mandantes com o melhor aproveitamento nos últimos 10 anos"
   ]
  },
  {
   "cell_type": "code",
   "execution_count": 6,
   "id": "40f817c9",
   "metadata": {},
   "outputs": [],
   "source": [
    "#ver os tipos de jogo que tem no banco de dados e escolher apenas os oficiais (regular e playoffs)\n",
    "df_games['season_type'].value_counts()\n",
    "df_games = df_games[df_games['season_type'].isin(['Regular Season', 'Playoffs'])]"
   ]
  },
  {
   "cell_type": "code",
   "execution_count": 11,
   "id": "72cab9f1",
   "metadata": {},
   "outputs": [],
   "source": [
    "#agora vamos pegar um recorte dos ultimos 10 anos\n",
    "ultimos10 = df_games[df_games['game_date'] >= '2013-01-01']"
   ]
  },
  {
   "cell_type": "code",
   "execution_count": 12,
   "id": "6bdcb7c6",
   "metadata": {},
   "outputs": [],
   "source": [
    "times = ultimos10['team_abbreviation_home'].unique()"
   ]
  },
  {
   "cell_type": "code",
   "execution_count": 21,
   "id": "432ee9a0",
   "metadata": {},
   "outputs": [
    {
     "name": "stdout",
     "output_type": "stream",
     "text": [
      "DEN porcentagem de vitórias em casa: 63.55353075170843\n",
      "BKN porcentagem de vitórias em casa: 50.585480093676814\n",
      "NYK porcentagem de vitórias em casa: 43.552311435523116\n",
      "LAC porcentagem de vitórias em casa: 65.47085201793722\n",
      "IND porcentagem de vitórias em casa: 60.32482598607889\n",
      "OKC porcentagem de vitórias em casa: 61.46788990825688\n",
      "SAS porcentagem de vitórias em casa: 66.7420814479638\n",
      "MIA porcentagem de vitórias em casa: 63.793103448275865\n",
      "MEM porcentagem de vitórias em casa: 61.43187066974596\n",
      "MIL porcentagem de vitórias em casa: 62.83783783783784\n",
      "CHI porcentagem de vitórias em casa: 51.3189448441247\n",
      "LAL porcentagem de vitórias em casa: 47.87735849056604\n",
      "BOS porcentagem de vitórias em casa: 62.66094420600859\n",
      "GSW porcentagem de vitórias em casa: 75.46777546777547\n",
      "ATL porcentagem de vitórias em casa: 57.96766743648961\n",
      "HOU porcentagem de vitórias em casa: 60.449438202247194\n",
      "MIN porcentagem de vitórias em casa: 48.13895781637717\n",
      "UTA porcentagem de vitórias em casa: 62.64775413711584\n",
      "DET porcentagem de vitórias em casa: 45.38653366583541\n",
      "SAC porcentagem de vitórias em casa: 44.91315136476427\n",
      "TOR porcentagem de vitórias em casa: 66.59242761692651\n",
      "DAL porcentagem de vitórias em casa: 56.50118203309693\n",
      "CLE porcentagem de vitórias em casa: 60.40723981900452\n",
      "PHX porcentagem de vitórias em casa: 51.52224824355972\n",
      "PHI porcentagem de vitórias em casa: 55.348837209302324\n",
      "NOP porcentagem de vitórias em casa: 53.30073349633252\n",
      "CHA porcentagem de vitórias em casa: 51.74999999999999\n",
      "WAS porcentagem de vitórias em casa: 56.057007125890735\n",
      "ORL porcentagem de vitórias em casa: 43.17617866004963\n",
      "POR porcentagem de vitórias em casa: 61.771561771561764\n"
     ]
    }
   ],
   "source": [
    "team_win_pct = []\n",
    "\n",
    "for time in times:\n",
    "    info_time = ultimos10[ultimos10['team_abbreviation_home'] == time]\n",
    "    numvitorias = (info_time['wl_home'] == 'W').sum()\n",
    "    numderrotas = (info_time['wl_home'] == 'L').sum()\n",
    "    wins_pct = numvitorias / (numvitorias + numderrotas) * 100\n",
    "    team_win_pct.append((time, wins_pct))\n",
    "    \n",
    "    #ordenar os dados por maior porcentagem para a menor\n",
    "    print(time, 'porcentagem de vitórias em casa:', wins_pct)"
   ]
  },
  {
   "cell_type": "code",
   "execution_count": 23,
   "id": "e19a47ce",
   "metadata": {},
   "outputs": [
    {
     "name": "stdout",
     "output_type": "stream",
     "text": [
      "GSW Win Pct at Home: 75.46777546777547\n",
      "SAS Win Pct at Home: 66.7420814479638\n",
      "TOR Win Pct at Home: 66.59242761692651\n",
      "LAC Win Pct at Home: 65.47085201793722\n",
      "MIA Win Pct at Home: 63.793103448275865\n",
      "DEN Win Pct at Home: 63.55353075170843\n",
      "MIL Win Pct at Home: 62.83783783783784\n",
      "BOS Win Pct at Home: 62.66094420600859\n",
      "UTA Win Pct at Home: 62.64775413711584\n",
      "POR Win Pct at Home: 61.771561771561764\n",
      "OKC Win Pct at Home: 61.46788990825688\n",
      "MEM Win Pct at Home: 61.43187066974596\n",
      "HOU Win Pct at Home: 60.449438202247194\n",
      "CLE Win Pct at Home: 60.40723981900452\n",
      "IND Win Pct at Home: 60.32482598607889\n",
      "ATL Win Pct at Home: 57.96766743648961\n",
      "DAL Win Pct at Home: 56.50118203309693\n",
      "WAS Win Pct at Home: 56.057007125890735\n",
      "PHI Win Pct at Home: 55.348837209302324\n",
      "NOP Win Pct at Home: 53.30073349633252\n",
      "CHA Win Pct at Home: 51.74999999999999\n",
      "PHX Win Pct at Home: 51.52224824355972\n",
      "CHI Win Pct at Home: 51.3189448441247\n",
      "BKN Win Pct at Home: 50.585480093676814\n",
      "MIN Win Pct at Home: 48.13895781637717\n",
      "LAL Win Pct at Home: 47.87735849056604\n",
      "DET Win Pct at Home: 45.38653366583541\n",
      "SAC Win Pct at Home: 44.91315136476427\n",
      "NYK Win Pct at Home: 43.552311435523116\n",
      "ORL Win Pct at Home: 43.17617866004963\n"
     ]
    }
   ],
   "source": [
    "\n",
    "team_win_pct_sorted = sorted(team_win_pct, key=lambda x: x[1], reverse=True)\n",
    "for time, wins_pct in team_win_pct_sorted:\n",
    "    print(time, 'Win Pct at Home:', wins_pct)\n"
   ]
  },
  {
   "cell_type": "code",
   "execution_count": null,
   "id": "594bb95a",
   "metadata": {},
   "outputs": [],
   "source": []
  },
  {
   "cell_type": "code",
   "execution_count": null,
   "id": "c5c364f4",
   "metadata": {},
   "outputs": [],
   "source": []
  }
 ],
 "metadata": {
  "kernelspec": {
   "display_name": "Python 3",
   "language": "python",
   "name": "python3"
  },
  "language_info": {
   "codemirror_mode": {
    "name": "ipython",
    "version": 3
   },
   "file_extension": ".py",
   "mimetype": "text/x-python",
   "name": "python",
   "nbconvert_exporter": "python",
   "pygments_lexer": "ipython3",
   "version": "3.13.1"
  }
 },
 "nbformat": 4,
 "nbformat_minor": 5
}
